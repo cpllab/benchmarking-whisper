{
 "cells": [
  {
   "cell_type": "code",
   "execution_count": 11,
   "metadata": {},
   "outputs": [],
   "source": [
    "import requests\n",
    "uri = 'https://media.talkbank.org:3000/mediaLink?type=video&bp=media&path=phon/Eng-NA/Providence/Alex/010427.mp4'\n",
    "user = 'arjun7@g.ucla.edu'\n",
    "password =  'childesaccess.spog'\n",
    "#response = requests.get(uri, auth=(user, password))\n",
    "response = requests.get(uri)"
   ]
  },
  {
   "cell_type": "code",
   "execution_count": 13,
   "metadata": {},
   "outputs": [
    {
     "data": {
      "text/plain": [
       "b'<html>\\n\\t\\t\\t<head>\\n\\t\\t\\t\\t<style>\\n\\t\\t\\t\\tbody {\\n\\t\\t\\t\\t\\tbackground-color: black;\\n\\t\\t\\t\\t\\tcolor: gray;\\n\\t\\t\\t\\t\\tfont-size: 24px;\\n\\t\\t\\t\\t\\tmargin: 50px;\\n\\t\\t\\t\\t}\\n\\n\\t\\t\\t\\taudio {\\n\\t\\t\\t\\t\\tdisplay: block;\\n\\t\\t\\t\\t\\tmargin: 100 auto;\\n\\t\\t\\t\\t}\\n\\n\\t\\t\\t\\tvideo {\\n\\t\\t\\t\\t\\tdisplay: block;\\n\\t\\t\\t\\t\\tmargin: 100 auto;\\n\\t\\t\\t\\t}\\n\\t\\t\\t\\t</style>\\n\\t\\t\\t</head>\\n\\t\\t\\t<body>\\n\\t\\t\\t\\t<div class=\"authRes\" data-path=\"phon/Eng-NA/Providence/Alex/010427.mp4\" data-bp=\"media\" data-type=\"video\"></div>\\n\\n\\t\\t\\t\\t<script type=\"module\" src=\"https://sla2.talkbank.org:4000/authUI/pageAuth.js\"></script>\\n\\t\\t\\t\\t<script type=\"module\">\\n\\t\\t\\t\\t\\timport { initPageAuth } from \\'https://sla2.talkbank.org:4000/authUI/pageAuth.js\\';\\n\\t\\t\\t\\t\\tinitPageAuth(\\'https://sla2.talkbank.org:4000\\', \\'authRes\\', \\'authModals\\', false);\\n\\t\\t\\t\\t</script>\\n\\t\\t\\t</body>\\n\\t\\t</html>'"
      ]
     },
     "execution_count": 13,
     "metadata": {},
     "output_type": "execute_result"
    }
   ],
   "source": [
    "response.content"
   ]
  },
  {
   "cell_type": "code",
   "execution_count": 14,
   "metadata": {},
   "outputs": [
    {
     "name": "stdout",
     "output_type": "stream",
     "text": [
      "b'<!DOCTYPE html>\\n<html lang=\"en\">\\n<head>\\n<meta charset=\"utf-8\">\\n<title>Error</title>\\n</head>\\n<body>\\n<pre>Cannot POST /mediaLink</pre>\\n</body>\\n</html>\\n'\n"
     ]
    }
   ],
   "source": [
    "res = requests.post(uri)# auth=HTTPBasicAuth('user', 'password'))\n",
    "print(res.content)"
   ]
  },
  {
   "cell_type": "code",
   "execution_count": null,
   "metadata": {},
   "outputs": [],
   "source": []
  }
 ],
 "metadata": {
  "kernelspec": {
   "display_name": "Python 3 (ipykernel)",
   "language": "python",
   "name": "python3"
  },
  "language_info": {
   "codemirror_mode": {
    "name": "ipython",
    "version": 3
   },
   "file_extension": ".py",
   "mimetype": "text/x-python",
   "name": "python",
   "nbconvert_exporter": "python",
   "pygments_lexer": "ipython3",
   "version": "3.11.5"
  }
 },
 "nbformat": 4,
 "nbformat_minor": 2
}
